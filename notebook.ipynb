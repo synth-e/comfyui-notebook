{
 "cells": [
  {
   "cell_type": "code",
   "execution_count": 1,
   "metadata": {},
   "outputs": [
    {
     "name": "stdout",
     "output_type": "stream",
     "text": [
      "/home/kkura/projects/comfyui-notebook/ComfyUI\n"
     ]
    }
   ],
   "source": [
    "WORKSPACE = 'ComfyUI'\n",
    "\n",
    "!git clone https://github.com/comfyanonymous/ComfyUI\n",
    "\n",
    "%cd $WORKSPACE\n",
    "\n",
    "!pip install xformers!=0.0.18 -r requirements.txt --extra-index-url https://download.pytorch.org/whl/cu121 --extra-index-url https://download.pytorch.org/whl/cu118 --extra-index-url https://download.pytorch.org/whl/cu117"
   ]
  },
  {
   "cell_type": "markdown",
   "metadata": {},
   "source": [
    "### Checkpoints download"
   ]
  },
  {
   "cell_type": "code",
   "execution_count": 2,
   "metadata": {},
   "outputs": [
    {
     "name": "stdout",
     "output_type": "stream",
     "text": [
      "--2024-09-08 17:21:32--  https://huggingface.co/ZeroCool94/stable-diffusion-v1-5/resolve/main/Stable%20Diffusion%20v1-5-Pruned-ema%20only.ckpt\n",
      "Resolving huggingface.co (huggingface.co)... 108.157.32.95, 108.157.32.94, 108.157.32.66, ...\n",
      "Connecting to huggingface.co (huggingface.co)|108.157.32.95|:443... connected.\n",
      "HTTP request sent, awaiting response... 302 Found\n",
      "Location: https://cdn-lfs.huggingface.co/repos/3c/5e/3c5e6fc5a25d1d22006eff851db84806510da9bd0f1b2e205334b220c74e12ab/cc6cb27103417325ff94f52b7a5d2dde45a7515b25c255d8e396c90014281516?response-content-disposition=inline%3B+filename*%3DUTF-8%27%27Stable%2520Diffusion%2520v1-5-Pruned-ema%2520only.ckpt%3B+filename%3D%22Stable+Diffusion+v1-5-Pruned-ema+only.ckpt%22%3B&Expires=1726050093&Policy=eyJTdGF0ZW1lbnQiOlt7IkNvbmRpdGlvbiI6eyJEYXRlTGVzc1RoYW4iOnsiQVdTOkVwb2NoVGltZSI6MTcyNjA1MDA5M319LCJSZXNvdXJjZSI6Imh0dHBzOi8vY2RuLWxmcy5odWdnaW5nZmFjZS5jby9yZXBvcy8zYy81ZS8zYzVlNmZjNWEyNWQxZDIyMDA2ZWZmODUxZGI4NDgwNjUxMGRhOWJkMGYxYjJlMjA1MzM0YjIyMGM3NGUxMmFiL2NjNmNiMjcxMDM0MTczMjVmZjk0ZjUyYjdhNWQyZGRlNDVhNzUxNWIyNWMyNTVkOGUzOTZjOTAwMTQyODE1MTY%7EcmVzcG9uc2UtY29udGVudC1kaXNwb3NpdGlvbj0qIn1dfQ__&Signature=P1xLBiW-3tPZlvU6koHuP%7ESetSsGaymV04uUEXHf9wHvP6MfCb9zeQMoS-zuHl6pcTeb2VL9OslYxhZSYbdyICDTdtVZPPAWNof2072o2OKbSn7dkltrredC4oaKurizlB8R4snExLc0UDzrd7zfxxut7ByI5-JAWT4i1OLbfMm%7EhM9PYQC-tjW8SdO3rXUg4DDNJtt17FiTJX2c%7EsYXxPqNdRgugDvdptVYqFZCzZnypB6XkZPGLcizmvuIIJ2w2ekN9gpqykXVmbtmG8jHPTD96yfupJqgCPumrnDyne-C2wShAVrkmIGsLdiZl3lxJJtcT%7EbHbKmpCuVte8sdwA__&Key-Pair-Id=K3ESJI6DHPFC7 [following]\n",
      "--2024-09-08 17:21:33--  https://cdn-lfs.huggingface.co/repos/3c/5e/3c5e6fc5a25d1d22006eff851db84806510da9bd0f1b2e205334b220c74e12ab/cc6cb27103417325ff94f52b7a5d2dde45a7515b25c255d8e396c90014281516?response-content-disposition=inline%3B+filename*%3DUTF-8%27%27Stable%2520Diffusion%2520v1-5-Pruned-ema%2520only.ckpt%3B+filename%3D%22Stable+Diffusion+v1-5-Pruned-ema+only.ckpt%22%3B&Expires=1726050093&Policy=eyJTdGF0ZW1lbnQiOlt7IkNvbmRpdGlvbiI6eyJEYXRlTGVzc1RoYW4iOnsiQVdTOkVwb2NoVGltZSI6MTcyNjA1MDA5M319LCJSZXNvdXJjZSI6Imh0dHBzOi8vY2RuLWxmcy5odWdnaW5nZmFjZS5jby9yZXBvcy8zYy81ZS8zYzVlNmZjNWEyNWQxZDIyMDA2ZWZmODUxZGI4NDgwNjUxMGRhOWJkMGYxYjJlMjA1MzM0YjIyMGM3NGUxMmFiL2NjNmNiMjcxMDM0MTczMjVmZjk0ZjUyYjdhNWQyZGRlNDVhNzUxNWIyNWMyNTVkOGUzOTZjOTAwMTQyODE1MTY%7EcmVzcG9uc2UtY29udGVudC1kaXNwb3NpdGlvbj0qIn1dfQ__&Signature=P1xLBiW-3tPZlvU6koHuP%7ESetSsGaymV04uUEXHf9wHvP6MfCb9zeQMoS-zuHl6pcTeb2VL9OslYxhZSYbdyICDTdtVZPPAWNof2072o2OKbSn7dkltrredC4oaKurizlB8R4snExLc0UDzrd7zfxxut7ByI5-JAWT4i1OLbfMm%7EhM9PYQC-tjW8SdO3rXUg4DDNJtt17FiTJX2c%7EsYXxPqNdRgugDvdptVYqFZCzZnypB6XkZPGLcizmvuIIJ2w2ekN9gpqykXVmbtmG8jHPTD96yfupJqgCPumrnDyne-C2wShAVrkmIGsLdiZl3lxJJtcT%7EbHbKmpCuVte8sdwA__&Key-Pair-Id=K3ESJI6DHPFC7\n",
      "Resolving cdn-lfs.huggingface.co (cdn-lfs.huggingface.co)... 108.157.32.116, 108.157.32.93, 108.157.32.20, ...\n",
      "Connecting to cdn-lfs.huggingface.co (cdn-lfs.huggingface.co)|108.157.32.116|:443... connected.\n",
      "HTTP request sent, awaiting response... 200 OK\n",
      "Length: 4265380512 (4,0G) [binary/octet-stream]\n",
      "Saving to: ‘./models/checkpoints/Stable Diffusion v1-5-Pruned-ema only.ckpt’\n",
      "\n",
      "Stable Diffusion v1 100%[===================>]   3,97G  7,74MB/s    in 25m 30s \n",
      "\n",
      "2024-09-08 17:47:04 (2,66 MB/s) - ‘./models/checkpoints/Stable Diffusion v1-5-Pruned-ema only.ckpt’ saved [4265380512/4265380512]\n",
      "\n",
      "--2024-09-08 17:47:05--  https://huggingface.co/stabilityai/sd-vae-ft-mse-original/resolve/main/vae-ft-mse-840000-ema-pruned.safetensors\n",
      "Resolving huggingface.co (huggingface.co)... 108.157.32.76, 108.157.32.94, 108.157.32.66, ...\n",
      "Connecting to huggingface.co (huggingface.co)|108.157.32.76|:443... connected.\n",
      "HTTP request sent, awaiting response... 302 Found\n",
      "Location: https://cdn-lfs.huggingface.co/repos/ec/ee/eceee26c5834d8a75cf04eeb17dfc06d1d5fe1d80c2f19520b148c11e2e98c45/735e4c3a447a3255760d7f86845f09f937809baa529c17370d83e4c3758f3c75?response-content-disposition=inline%3B+filename*%3DUTF-8%27%27vae-ft-mse-840000-ema-pruned.safetensors%3B+filename%3D%22vae-ft-mse-840000-ema-pruned.safetensors%22%3B&Expires=1726049737&Policy=eyJTdGF0ZW1lbnQiOlt7IkNvbmRpdGlvbiI6eyJEYXRlTGVzc1RoYW4iOnsiQVdTOkVwb2NoVGltZSI6MTcyNjA0OTczN319LCJSZXNvdXJjZSI6Imh0dHBzOi8vY2RuLWxmcy5odWdnaW5nZmFjZS5jby9yZXBvcy9lYy9lZS9lY2VlZTI2YzU4MzRkOGE3NWNmMDRlZWIxN2RmYzA2ZDFkNWZlMWQ4MGMyZjE5NTIwYjE0OGMxMWUyZTk4YzQ1LzczNWU0YzNhNDQ3YTMyNTU3NjBkN2Y4Njg0NWYwOWY5Mzc4MDliYWE1MjljMTczNzBkODNlNGMzNzU4ZjNjNzU%7EcmVzcG9uc2UtY29udGVudC1kaXNwb3NpdGlvbj0qIn1dfQ__&Signature=VIsCWDj30VuYXIbiLhw09nZnLfDUvgFfC%7EVbszCbiWANa9mbsyB2ymzFunuV6kRRMpxRH-APTnvYZ1vm5qieUDfBZZuWua1d9l6M-9Q5WcuTfvnrIAu0I4SpxEyB7PhYX7MeLVGTQP1KF5-fp4jWasFzbFYmrTH-r4JbGioDqZmvV7RHy1XD7X6L7JWtzXVdN6aZInVqnW5JF4HSRC8DmQxRDfuxIjWaJ0oRH6S8J8VRvvfs5oURN4-Cgfu866odUlzlfGwtyYdCtYDY1GoIumnrYzMiGHuIK1KmabTMPAtI8OuXYr3HtysQXvDnkaJW76Kggvi0x4KBs97IfRtb-Q__&Key-Pair-Id=K3ESJI6DHPFC7 [following]\n",
      "--2024-09-08 17:47:06--  https://cdn-lfs.huggingface.co/repos/ec/ee/eceee26c5834d8a75cf04eeb17dfc06d1d5fe1d80c2f19520b148c11e2e98c45/735e4c3a447a3255760d7f86845f09f937809baa529c17370d83e4c3758f3c75?response-content-disposition=inline%3B+filename*%3DUTF-8%27%27vae-ft-mse-840000-ema-pruned.safetensors%3B+filename%3D%22vae-ft-mse-840000-ema-pruned.safetensors%22%3B&Expires=1726049737&Policy=eyJTdGF0ZW1lbnQiOlt7IkNvbmRpdGlvbiI6eyJEYXRlTGVzc1RoYW4iOnsiQVdTOkVwb2NoVGltZSI6MTcyNjA0OTczN319LCJSZXNvdXJjZSI6Imh0dHBzOi8vY2RuLWxmcy5odWdnaW5nZmFjZS5jby9yZXBvcy9lYy9lZS9lY2VlZTI2YzU4MzRkOGE3NWNmMDRlZWIxN2RmYzA2ZDFkNWZlMWQ4MGMyZjE5NTIwYjE0OGMxMWUyZTk4YzQ1LzczNWU0YzNhNDQ3YTMyNTU3NjBkN2Y4Njg0NWYwOWY5Mzc4MDliYWE1MjljMTczNzBkODNlNGMzNzU4ZjNjNzU%7EcmVzcG9uc2UtY29udGVudC1kaXNwb3NpdGlvbj0qIn1dfQ__&Signature=VIsCWDj30VuYXIbiLhw09nZnLfDUvgFfC%7EVbszCbiWANa9mbsyB2ymzFunuV6kRRMpxRH-APTnvYZ1vm5qieUDfBZZuWua1d9l6M-9Q5WcuTfvnrIAu0I4SpxEyB7PhYX7MeLVGTQP1KF5-fp4jWasFzbFYmrTH-r4JbGioDqZmvV7RHy1XD7X6L7JWtzXVdN6aZInVqnW5JF4HSRC8DmQxRDfuxIjWaJ0oRH6S8J8VRvvfs5oURN4-Cgfu866odUlzlfGwtyYdCtYDY1GoIumnrYzMiGHuIK1KmabTMPAtI8OuXYr3HtysQXvDnkaJW76Kggvi0x4KBs97IfRtb-Q__&Key-Pair-Id=K3ESJI6DHPFC7\n",
      "Resolving cdn-lfs.huggingface.co (cdn-lfs.huggingface.co)... 108.157.32.116, 108.157.32.19, 108.157.32.93, ...\n",
      "Connecting to cdn-lfs.huggingface.co (cdn-lfs.huggingface.co)|108.157.32.116|:443... connected.\n",
      "HTTP request sent, awaiting response... 416 Requested Range Not Satisfiable\n",
      "\n",
      "    The file is already fully retrieved; nothing to do.\n",
      "\n"
     ]
    }
   ],
   "source": [
    "# SD1.5\n",
    "!wget -c https://huggingface.co/ZeroCool94/stable-diffusion-v1-5/resolve/main/Stable%20Diffusion%20v1-5-Pruned-ema%20only.ckpt -P ./models/checkpoints/\n",
    "\n",
    "# VAE\n",
    "!wget -c https://huggingface.co/stabilityai/sd-vae-ft-mse-original/resolve/main/vae-ft-mse-840000-ema-pruned.safetensors -P ./models/vae/"
   ]
  },
  {
   "cell_type": "markdown",
   "metadata": {},
   "source": [
    "### Run"
   ]
  },
  {
   "cell_type": "code",
   "execution_count": 1,
   "metadata": {},
   "outputs": [
    {
     "name": "stdout",
     "output_type": "stream",
     "text": [
      "python: can't open file '/home/kkura/projects/comfyui-notebook/main.py': [Errno 2] No such file or directory\n"
     ]
    }
   ],
   "source": [
    "!python main.py"
   ]
  }
 ],
 "metadata": {
  "kernelspec": {
   "display_name": "syntagen",
   "language": "python",
   "name": "python3"
  },
  "language_info": {
   "codemirror_mode": {
    "name": "ipython",
    "version": 3
   },
   "file_extension": ".py",
   "mimetype": "text/x-python",
   "name": "python",
   "nbconvert_exporter": "python",
   "pygments_lexer": "ipython3",
   "version": "3.10.14"
  }
 },
 "nbformat": 4,
 "nbformat_minor": 2
}
